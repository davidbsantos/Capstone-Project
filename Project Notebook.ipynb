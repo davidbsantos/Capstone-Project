{
 "cells": [
  {
   "cell_type": "markdown",
   "id": "1cb75479",
   "metadata": {},
   "source": [
    "# **CAPSTONE PROJECT**"
   ]
  },
  {
   "cell_type": "markdown",
   "id": "22cabde2",
   "metadata": {},
   "source": [
    "## API_KEY VERIFICATION"
   ]
  },
  {
   "cell_type": "code",
   "execution_count": 1,
   "id": "089488e0",
   "metadata": {},
   "outputs": [
    {
     "name": "stdout",
     "output_type": "stream",
     "text": [
      "✅ API key found!\n",
      "\n",
      "🎉 SUCCESS! Your first AI response:\n",
      "Hi there!\n"
     ]
    }
   ],
   "source": [
    "import os\n",
    "from dotenv import load_dotenv\n",
    "import google.generativeai as genai\n",
    "\n",
    "# Load environment variables\n",
    "load_dotenv()\n",
    "\n",
    "# Configure the API\n",
    "api_key = os.getenv(\"GEMINI_API_KEY\")\n",
    "\n",
    "if not api_key:\n",
    "    print(\"❌ API key not found. Check your .env file!\")\n",
    "    print(\"Make sure you have GOOGLE_API_KEY=your_key in your .env file\")\n",
    "else:\n",
    "    print(\"✅ API key found!\")\n",
    "\n",
    "    # Configure the generative AI\n",
    "    genai.configure(api_key=api_key)\n",
    "\n",
    "    # Create a model\n",
    "    model = genai.GenerativeModel(\"gemini-2.5-flash\")\n",
    "\n",
    "    # Make your first API call!\n",
    "    try:\n",
    "        response = model.generate_content(\n",
    "            \"Hello! Please respond with a short, friendly greeting.\"\n",
    "        )\n",
    "        print(\"\\n🎉 SUCCESS! Your first AI response:\")\n",
    "        print(f\"{response.text}\")\n",
    "    except Exception as e:\n",
    "        print(f\"❌ Error making API call: {e}\")\n",
    "        print(\"Check your API key and internet connection\")"
   ]
  },
  {
   "cell_type": "markdown",
   "id": "14da4f1f",
   "metadata": {},
   "source": [
    "## WEB SCRAPING - professors information"
   ]
  },
  {
   "cell_type": "code",
   "execution_count": null,
   "id": "a26a7720",
   "metadata": {},
   "outputs": [],
   "source": []
  }
 ],
 "metadata": {
  "kernelspec": {
   "display_name": "project_course1",
   "language": "python",
   "name": "python3"
  },
  "language_info": {
   "codemirror_mode": {
    "name": "ipython",
    "version": 3
   },
   "file_extension": ".py",
   "mimetype": "text/x-python",
   "name": "python",
   "nbconvert_exporter": "python",
   "pygments_lexer": "ipython3",
   "version": "3.13.7"
  }
 },
 "nbformat": 4,
 "nbformat_minor": 5
}
